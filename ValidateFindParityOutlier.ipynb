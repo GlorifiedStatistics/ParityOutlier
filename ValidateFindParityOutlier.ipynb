{
 "cells": [
  {
   "cell_type": "code",
   "execution_count": 1,
   "metadata": {},
   "outputs": [],
   "source": [
    "from FindParityOutlier import *"
   ]
  },
  {
   "cell_type": "code",
   "execution_count": 2,
   "metadata": {},
   "outputs": [],
   "source": [
    "def make_validation_examples(num_examples, min_n, max_n, min_val, max_val):\n",
    "    \"\"\"\n",
    "    Returns a num_examples x (max_n) matrix of random examples to use as a validation set. This\n",
    "        differs from make_examples() in that the value appended to the end is the outlying\n",
    "        value, not the parity.\n",
    "    Each row is an example of a possible list to feed into the network. Generating each example is\n",
    "        done as follows:\n",
    "        \n",
    "        1. size := random size for this list in [min_n, max_n)\n",
    "        2. parity := random choice of even or odd\n",
    "        3. Fill a list with 'size' random numbers of parity 'parity' in range [min_val, max_val)\n",
    "        4. number := a random number of parity opposite of 'parity' in range [min_val, max_val)\n",
    "        5. Overwrite a random position in the list with 'number'\n",
    "        6. Continue to append -1's to the end of the list until it is of size max_n\n",
    "        7. Append the outlier value to the end of the matrix\n",
    "        \n",
    "    num_examples - the number of examples in the dataset\n",
    "    min_n - the minimum possible number of numbers per example (inclusive)\n",
    "    max_n - the maximum possible number of numbers per example (exclusive)\n",
    "    min_val - the minimum possible number (inclusive)\n",
    "    max_val - the maximum possible number (exclusive)\n",
    "    \"\"\"\n",
    "    ret = []\n",
    "    \n",
    "    for i in range(num_examples):\n",
    "        new_arr = []\n",
    "        \n",
    "        # The size of this example\n",
    "        size = random.randrange(min_n, max_n)\n",
    "        \n",
    "        # Decide if we will be mainly even or odd\n",
    "        parity = random.choice([EVEN, ODD])\n",
    "        \n",
    "        for j in range(max_n):\n",
    "            \n",
    "            # If we are > size, use -1\n",
    "            if j > size:\n",
    "                new_arr.append(-1)\n",
    "                continue;\n",
    "            \n",
    "            # Otherwise make an even/odd number based on parity\n",
    "            num = random.randrange(min_val, max_val)\n",
    "            if (parity == EVEN and num % 2 != 0) or (parity == ODD and num % 2 == 0):\n",
    "                num += 1\n",
    "            new_arr.append(num)\n",
    "        \n",
    "        # Insert the one outlier parity into a random place\n",
    "        num = random.randrange(min_val, max_val)\n",
    "        if (parity == EVEN and num % 2 == 0) or (parity == ODD and num % 2 != 0):\n",
    "            num += 1\n",
    "        new_arr[random.randrange(0, size)] = num\n",
    "        \n",
    "        # Append the outlier value\n",
    "        new_arr.append(num)\n",
    "        \n",
    "        ret.append(new_arr)\n",
    "    \n",
    "    return np.array(ret)"
   ]
  },
  {
   "cell_type": "code",
   "execution_count": null,
   "metadata": {},
   "outputs": [],
   "source": [
    "num_examples = 100\n",
    "min_n = 3\n",
    "max_n = 1000\n",
    "min_val = 0\n",
    "max_val = 7391463232\n",
    "\n",
    "val_x = make_validation_examples(num_examples, min_n, max_n, min_val, max_val)\n",
    "val_y = val_x[:, -1]\n",
    "val_x = val_x[:, :-1]\n",
    "\n",
    "total_correct = 0\n",
    "curr_count = 0\n",
    "for x, y in zip(val_x, val_y):\n",
    "    if y == find_outlier_value(x):\n",
    "        total_correct += 1\n",
    "    curr_count += 1\n",
    "    print(\"Accuracy: %f\" % (float(total_correct) / curr_count))"
   ]
  },
  {
   "cell_type": "code",
   "execution_count": null,
   "metadata": {},
   "outputs": [],
   "source": []
  }
 ],
 "metadata": {
  "kernelspec": {
   "display_name": "Python 3",
   "language": "python",
   "name": "python3"
  },
  "language_info": {
   "codemirror_mode": {
    "name": "ipython",
    "version": 3
   },
   "file_extension": ".py",
   "mimetype": "text/x-python",
   "name": "python",
   "nbconvert_exporter": "python",
   "pygments_lexer": "ipython3",
   "version": "3.6.8"
  }
 },
 "nbformat": 4,
 "nbformat_minor": 4
}
